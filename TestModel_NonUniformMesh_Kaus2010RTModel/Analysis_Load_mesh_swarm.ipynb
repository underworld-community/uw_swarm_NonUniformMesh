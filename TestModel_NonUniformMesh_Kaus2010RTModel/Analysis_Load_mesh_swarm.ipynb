{
 "cells": [
  {
   "cell_type": "code",
   "execution_count": 1,
   "id": "3197a3f8",
   "metadata": {},
   "outputs": [
    {
     "name": "stdout",
     "output_type": "stream",
     "text": [
      "loaded rc file /opt/venv/lib/python3.10/site-packages/underworld/UWGeodynamics/uwgeo-data/uwgeodynamicsrc\n"
     ]
    }
   ],
   "source": [
    "import h5py\n",
    "\n",
    "from underworld import UWGeodynamics as GEO\n",
    "from underworld import visualisation as vis\n",
    "\n",
    "import underworld as uw\n",
    "from underworld import function as fn\n",
    "\n",
    "import numpy as np\n",
    "import math\n",
    "\n",
    "import matplotlib.pyplot as plt\n",
    "import imageio "
   ]
  },
  {
   "cell_type": "code",
   "execution_count": 2,
   "id": "995d9d4d",
   "metadata": {},
   "outputs": [],
   "source": [
    "#!pip install imageio"
   ]
  },
  {
   "cell_type": "code",
   "execution_count": 3,
   "id": "aa00a6cc",
   "metadata": {},
   "outputs": [],
   "source": [
    "u = GEO.UnitRegistry\n",
    "\n",
    "KL = 500 * u.kilometer\n",
    "K_viscosity = 1e20  * u.pascal * u.second\n",
    "K_density   = 3200 * u.kilogram / u.meter**3\n",
    "\n",
    "KM = K_density * KL**3\n",
    "Kt = KM/ ( KL * K_viscosity )\n",
    "\n",
    "GEO.scaling_coefficients[\"[length]\"] = KL\n",
    "GEO.scaling_coefficients[\"[time]\"] = Kt\n",
    "GEO.scaling_coefficients[\"[mass]\"]= KM"
   ]
  },
  {
   "cell_type": "code",
   "execution_count": 4,
   "id": "1fe1308a",
   "metadata": {},
   "outputs": [
    {
     "name": "stdout",
     "output_type": "stream",
     "text": [
      "\tGlobal element size: 50x50\n",
      "\tLocal offset of rank 0: 0x0\n",
      "\tLocal range of rank 0: 50x50\n",
      "In func WeightsCalculator_CalculateAll(): for swarm \"SU3EFPYX__swarm\"\n",
      "\tdone 33% (834 cells)...\n",
      "\tdone 67% (1667 cells)...\n",
      "\tdone 100% (2500 cells)...\n",
      "WeightsCalculator_CalculateAll(): finished update of weights for swarm \"SU3EFPYX__swarm\"\n"
     ]
    }
   ],
   "source": [
    "nx0 = 50\n",
    "ny0 = 50\n",
    "\n",
    "Model = GEO.Model(elementRes=(nx0,ny0),\n",
    "                  minCoord=(-250. * u.kilometer, -500. * u.kilometer),  \n",
    "                  maxCoord=(250. * u.kilometer, 0. * u.kilometer),\n",
    "                  gravity=(0.0, -9.81 * u.meter / u.second**2))\n",
    "\n",
    "# dt = 2.5*u.kiloyear\n",
    "# dt_str = \"%.1f\" %(dt.m)\n",
    "# checkpoint_interval = 1e2*u.kiloyear\n",
    "# fdir = \"1_23_02_FreeSurface_Kaus2010_Rayleigh-Taylor_Instability_dt\"+dt_str+\"ka_NUM\"\n",
    "# Model.outputDir = fdir"
   ]
  },
  {
   "cell_type": "code",
   "execution_count": 5,
   "id": "dec38554",
   "metadata": {},
   "outputs": [
    {
     "name": "stdout",
     "output_type": "stream",
     "text": [
      "\tGlobal element size: 50x50\n",
      "\tLocal offset of rank 0: 0x0\n",
      "\tLocal range of rank 0: 50x50\n"
     ]
    }
   ],
   "source": [
    "minCoord = tuple([GEO.nd(val) for val in Model.minCoord])\n",
    "maxCoord = tuple([GEO.nd(val) for val in Model.maxCoord])\n",
    "\n",
    "mesh1 = uw.mesh.FeMesh_Cartesian(elementType=Model.elementType,\n",
    "                                    elementRes=Model.elementRes,\n",
    "                                    minCoord=minCoord,\n",
    "                                    maxCoord=maxCoord,\n",
    "                                    periodic=Model.periodic)"
   ]
  },
  {
   "cell_type": "code",
   "execution_count": 6,
   "id": "c4767c47",
   "metadata": {},
   "outputs": [],
   "source": [
    "def PlotModelSetup(fdir,meshCopy,step,dt,field_name,remesh=True):\n",
    "    step = int(step)\n",
    "\n",
    "    if remesh:\n",
    "        meshfile = fdir+\"mesh-\"+ str(step)+\".h5\"\n",
    "        meshCopy.load(meshfile)\n",
    "    else:\n",
    "        meshfile = fdir+\"mesh\"+\".h5\"\n",
    "        meshCopy.load(meshfile)\n",
    "\n",
    "    swarmCopy = uw.swarm.Swarm(mesh=meshCopy,particleEscape=True)\n",
    "    swarmfile = fdir+\"swarm-\"+ str(step)+\".h5\"\n",
    "    swarmCopy.load(swarmfile)\n",
    "\n",
    "    materialField = swarmCopy.add_variable(\"int\",1)\n",
    "    filename = fdir+\"materialField-\"+ str(step)+\".h5\"\n",
    "    materialField.load(filename)\n",
    "    \n",
    "    figname = fdir + field_name +\"-{0}.png\".format(step)\n",
    "    time_str = str(step*dt)\n",
    "    Fig = vis.Figure(figsize=(500,500), quality=3)\n",
    "    Fig.Mesh(meshCopy)\n",
    "#     if remesh:\n",
    "#         colours= [\"orange\",\"yellow\",\"red\"]\n",
    "#     else:\n",
    "#         colours= [\"blue\",\"orange\",\"yellow\",\"red\"]\n",
    "    \n",
    "#    Fig.Points(swarmCopy,materialField,fn_size=3.0,colourBar=False,colours= colours)\n",
    "    #Fig.show()\n",
    "    \n",
    "    Fig.Points(swarmCopy,materialField,fn_size=3.0,colourBar=False)\n",
    "    Fig.save(fdir+field_name+\"-{0}.png\".format(step))"
   ]
  },
  {
   "cell_type": "code",
   "execution_count": 7,
   "id": "6226a834",
   "metadata": {},
   "outputs": [],
   "source": [
    "fdir1 = \"1_23_02_FreeSurface_Kaus2010_Rayleigh-Taylor_Instability_dt2.5ka/\"\n",
    "fdir2 = \"1_23_02_FreeSurface_Kaus2010_Rayleigh-Taylor_Instability_dt2.5ka_NUM/\"\n",
    "\n",
    "\n",
    "PlotModelSetup(fdir1,mesh1,0,dt,\"ModelSetup\",remesh = True)\n",
    "PlotModelSetup(fdir2,mesh1,0,dt,\"ModelSetup\",remesh = True)"
   ]
  },
  {
   "cell_type": "code",
   "execution_count": 8,
   "id": "3ac0aee1",
   "metadata": {},
   "outputs": [],
   "source": [
    "def PlotField(fdir,meshCopy,step,dt,field_name,remesh=True):\n",
    "    step = int(step)\n",
    "\n",
    "    if remesh:\n",
    "        meshfile = fdir+\"mesh-\"+ str(step)+\".h5\"\n",
    "        swarmCopy = uw.swarm.Swarm(mesh=meshCopy,particleEscape=True)\n",
    "        meshCopy.load(meshfile)\n",
    "    else:\n",
    "        meshfile = fdir+\"mesh\"+\".h5\"\n",
    "        swarmCopy = uw.swarm.Swarm(mesh=meshCopy,particleEscape=True)\n",
    "        meshCopy.load(meshfile)\n",
    "\n",
    "    swarmfile = fdir+\"swarm-\"+ str(step)+\".h5\"\n",
    "    swarmCopy.load(swarmfile)\n",
    "\n",
    "    materialField = swarmCopy.add_variable(\"int\",1)\n",
    "    filename = fdir+\"materialField-\"+ str(step)+\".h5\"\n",
    "    materialField.load(filename)\n",
    "\n",
    "    velocityField = meshCopy.add_variable(nodeDofCount=2)\n",
    "    filename = fdir+\"velocityField-\"+ str(step)+\".h5\"\n",
    "    velocityField.load(filename)\n",
    "    \n",
    "    figname = fdir + field_name +\"-{0}.png\".format(step)\n",
    "    time_str = str(step*dt/1000)\n",
    "    Fig = vis.Figure(figsize=(500,500),title=time_str+\" ma\", quality=3)\n",
    "    Fig.Mesh(meshCopy)\n",
    "#     if remesh:\n",
    "#         colours= [\"orange\",\"yellow\",\"red\"]\n",
    "#     else:\n",
    "#         colours= [\"blue\",\"orange\",\"yellow\",\"red\"]\n",
    "    \n",
    "    \n",
    "#     Fig.Points(swarmCopy,materialField,fn_size=3.0,colourBar=False,colours= colours)\n",
    "\n",
    "    Fig.Points(swarmCopy,materialField,fn_size=3.0,colourBar=False)\n",
    "    Fig.VectorArrows(meshCopy, velocityField)\n",
    "    #Fig.show()\n",
    "    Fig.save(fdir+field_name+\"-{0}.png\".format(step))"
   ]
  },
  {
   "cell_type": "code",
   "execution_count": 11,
   "id": "51cf314f",
   "metadata": {},
   "outputs": [],
   "source": [
    "dt = 100  #ka\n",
    "steps_arange = np.arange(0,54+1,1)\n",
    "\n",
    "\n",
    "fdir = fdir1\n",
    "field_name = \"VelocityField\"\n",
    "\n",
    "for step in steps_arange:\n",
    "    PlotField(fdir,mesh1,step,dt,field_name,remesh = True)\n",
    "    \n",
    "images = [] \n",
    "for step in steps_arange:\n",
    "    f_name = fdir+field_name+\"-{0}.png\".format(step)\n",
    "    images.append(imageio.imread(f_name)) \n",
    "imageio.mimsave(fdir+field_name+\".gif\", images, duration=1.0) "
   ]
  },
  {
   "cell_type": "code",
   "execution_count": 12,
   "id": "3d63c48c",
   "metadata": {},
   "outputs": [],
   "source": [
    "fdir = fdir2\n",
    "field_name = \"VelocityField\"\n",
    "\n",
    "for step in steps_arange:\n",
    "    #print(step)\n",
    "    PlotField(fdir,mesh1,step,dt,field_name,remesh = True)\n",
    "    \n",
    "images = [] \n",
    "for step in steps_arange:\n",
    "    f_name = fdir+field_name+\"-{0}.png\".format(step)\n",
    "    images.append(imageio.imread(f_name)) \n",
    "imageio.mimsave(fdir+field_name+\".gif\", images, duration=1.0)"
   ]
  },
  {
   "cell_type": "code",
   "execution_count": null,
   "id": "b9fdeecd",
   "metadata": {},
   "outputs": [],
   "source": []
  },
  {
   "cell_type": "code",
   "execution_count": null,
   "id": "cd85e73e",
   "metadata": {},
   "outputs": [],
   "source": []
  },
  {
   "cell_type": "code",
   "execution_count": null,
   "id": "0c676c94",
   "metadata": {},
   "outputs": [],
   "source": []
  },
  {
   "cell_type": "code",
   "execution_count": null,
   "id": "5cbaefa1",
   "metadata": {},
   "outputs": [],
   "source": []
  },
  {
   "cell_type": "code",
   "execution_count": null,
   "id": "53713ba1",
   "metadata": {},
   "outputs": [],
   "source": []
  },
  {
   "cell_type": "code",
   "execution_count": null,
   "id": "4a6fa6dd",
   "metadata": {},
   "outputs": [],
   "source": []
  },
  {
   "cell_type": "code",
   "execution_count": null,
   "id": "4354893e",
   "metadata": {},
   "outputs": [],
   "source": []
  }
 ],
 "metadata": {
  "kernelspec": {
   "display_name": "Python 3 (ipykernel)",
   "language": "python",
   "name": "python3"
  },
  "language_info": {
   "codemirror_mode": {
    "name": "ipython",
    "version": 3
   },
   "file_extension": ".py",
   "mimetype": "text/x-python",
   "name": "python",
   "nbconvert_exporter": "python",
   "pygments_lexer": "ipython3",
   "version": "3.10.4"
  }
 },
 "nbformat": 4,
 "nbformat_minor": 5
}
